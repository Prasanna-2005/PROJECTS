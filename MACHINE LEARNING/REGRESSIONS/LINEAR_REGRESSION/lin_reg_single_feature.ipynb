{
 "cells": [
  {
   "cell_type": "code",
   "execution_count": 1,
   "id": "a9aa6779",
   "metadata": {},
   "outputs": [
    {
     "name": "stdout",
     "output_type": "stream",
     "text": [
      "[1 2 3 4 5 6 7 8 9]\n",
      "[ 300.  500.  550.  600.  700.  800.  820.  900. 1000. 1020.]\n"
     ]
    }
   ],
   "source": [
    "import numpy as np\n",
    "\n",
    "x_train = np.arange(1,10)\n",
    "y_train = np.array([300.0,500.0 ,550.0 ,600.0 ,700.0, 800.0, 820.0 ,900.0, 1000.0 ,1020.0])   #target value\n",
    "print(x_train)\n",
    "print(y_train)\n"
   ]
  },
  {
   "cell_type": "markdown",
   "id": "3e924a41",
   "metadata": {},
   "source": [
    "GRADIENT IS A PARTIAL DERIVATIVE "
   ]
  },
  {
   "cell_type": "code",
   "execution_count": 2,
   "id": "54644afc",
   "metadata": {},
   "outputs": [],
   "source": [
    "def compute_gradient(x, y, w, b): \n",
    "    \"\"\"\n",
    "    Computes the gradient for linear regression \n",
    "    Args:\n",
    "      x (ndarray (m,)): Data, m examples \n",
    "      y (ndarray (m,)): target values\n",
    "      w,b (scalar)    : model parameters  \n",
    "    Returns\n",
    "      dj_dw (scalar): The gradient of the cost w.r.t. the parameters w\n",
    "      dj_db (scalar): The gradient of the cost w.r.t. the parameter b     \n",
    "     \"\"\"\n",
    "    \n",
    "    # Number of training examples\n",
    "    m = x.shape[0]    \n",
    "    dj_dw = 0\n",
    "    dj_db = 0\n",
    "    \n",
    "    for i in range(m):  \n",
    "        \n",
    "        f_wb = w * x[i] + b \n",
    "        \n",
    "        dj_dw_i = (f_wb - y[i]) * x[i] # weighted sum of error\n",
    "        dj_db_i = (f_wb - y[i])   # sum of error\n",
    "\n",
    "        dj_db += dj_db_i\n",
    "        dj_dw += dj_dw_i \n",
    "    dj_dw = dj_dw / m \n",
    "    dj_db = dj_db / m \n",
    "        \n",
    "    return dj_dw, dj_db"
   ]
  },
  {
   "cell_type": "code",
   "execution_count": null,
   "id": "5a665bf9",
   "metadata": {},
   "outputs": [],
   "source": [
    "# regularization gradient\n",
    "\n",
    "def compute_gradient_regularisation(X, y, w, b, lambda_): \n",
    "    \"\"\"\n",
    "    Computes the gradient for linear regression \n",
    "    Args:\n",
    "      X (ndarray (m,n): Data, m examples with n features\n",
    "      y (ndarray (m,)): target values\n",
    "      w (ndarray (n,)): model parameters  \n",
    "      b (scalar)      : model parameter\n",
    "      lambda_ (scalar): Controls amount of regularization\n",
    "      \n",
    "    Returns:\n",
    "      dj_dw (ndarray (n,)): The gradient of the cost w.r.t. the parameters w. \n",
    "      dj_db (scalar):       The gradient of the cost w.r.t. the parameter b. \n",
    "    \"\"\"\n",
    "    m,n = X.shape           #(number of examples, number of features)\n",
    "    dj_dw = np.zeros((n,))\n",
    "    dj_db = 0.\n",
    "\n",
    "    for i in range(m):                             \n",
    "        err = (np.dot(X[i], w) + b) - y[i]                 \n",
    "        for j in range(n):                         \n",
    "            dj_dw[j] = dj_dw[j] + err * X[i, j]               \n",
    "        dj_db = dj_db + err                        \n",
    "    dj_dw = dj_dw / m                                \n",
    "    dj_db = dj_db / m   \n",
    "    \n",
    "    dj_dw += (lambda_/m) * w\n",
    "\n",
    "    return dj_db, dj_dw"
   ]
  },
  {
   "cell_type": "code",
   "execution_count": 3,
   "id": "e4beb8e4",
   "metadata": {},
   "outputs": [],
   "source": [
    "#Function to calculate the cost\n",
    "def compute_cost(x, y, w, b):\n",
    "   \n",
    "    ''' formula to calculate cost or sum of squared errors\n",
    "    \n",
    "                cost = 1/2m * sum((f(x_i) - y_i)^2)\n",
    "\n",
    "                where f(x) = w.x + b\n",
    "    '''\n",
    "    m = x.shape[0] \n",
    "    cost = 0\n",
    "    \n",
    "    for i in range(m):\n",
    "        f_wb = w * x[i] + b\n",
    "        cost = cost + (f_wb - y[i])**2\n",
    "    \n",
    "\n",
    "    return cost/(2*m)"
   ]
  },
  {
   "cell_type": "code",
   "execution_count": 4,
   "id": "d653132f",
   "metadata": {},
   "outputs": [],
   "source": [
    "# regularization :\n",
    "def compute_cost_regularised(X, y, w, b, lambda_ = 1):\n",
    "    \"\"\"\n",
    "    Computes the cost over all examples\n",
    "    Args:\n",
    "      X (ndarray (m,n): Data, m examples with n features\n",
    "      y (ndarray (m,)): target values\n",
    "      w (ndarray (n,)): model parameters  \n",
    "      b (scalar)      : model parameter\n",
    "      lambda_ (scalar): Controls amount of regularization\n",
    "    Returns:\n",
    "      total_cost (scalar):  cost \n",
    "    \"\"\"\n",
    "\n",
    "    m  = X.shape[0]\n",
    "    n  = len(w)\n",
    "    cost = 0.\n",
    "    for i in range(m):\n",
    "        f_wb_i = np.dot(X[i], w) + b                                   #(n,)(n,)=scalar, see np.dot\n",
    "        cost = cost + (f_wb_i - y[i])**2                               #scalar             \n",
    "    cost = cost / (2 * m)                                              #scalar  \n",
    "\n",
    "    reg_cost = (lambda_/(2*m)) * (w**2)                                 #scalar\n",
    "    \n",
    "    total_cost = cost + reg_cost                                       #scalar\n",
    "    return total_cost                                                  #scalar"
   ]
  },
  {
   "cell_type": "code",
   "execution_count": 5,
   "id": "2bb705f2",
   "metadata": {},
   "outputs": [],
   "source": [
    "def train_with_gradient_descent(x, y, w_in, b_in, alpha, num_iters, cost_function, gradient_function): \n",
    "    \"\"\"\n",
    "    Performs gradient descent to fit w,b. Updates w,b by taking \n",
    "    num_iters gradient steps with learning rate alpha\n",
    "    \n",
    "    Args:\n",
    "      x (ndarray (m,))  : Data, m examples \n",
    "      y (ndarray (m,))  : target values\n",
    "      w_in,b_in (scalar): initial values of model parameters  \n",
    "      alpha (float):     Learning rate\n",
    "      num_iters (int):   number of iterations to run gradient descent\n",
    "      cost_function:     function to call to produce cost\n",
    "      gradient_function: function to call to produce gradient\n",
    "      \n",
    "    Returns:\n",
    "      w (scalar): Updated value of parameter after running gradient descent\n",
    "      b (scalar): Updated value of parameter after running gradient descent\n",
    "      J_history (List): History of cost values\n",
    "      p_history (list): History of parameters [w,b] \n",
    "      \"\"\"\n",
    "    \n",
    "    # An array to store cost J and w's at each iteration primarily for graphing later\n",
    "    J_history = []\n",
    "    p_history = []\n",
    "    b = b_in\n",
    "    w = w_in\n",
    "    \n",
    "    for i in range(num_iters):\n",
    "        # Calculate the gradient and update the parameters using gradient_function\n",
    "        dj_dw, dj_db = gradient_function(x, y, w , b)     \n",
    "\n",
    "        # Update Parameters using equation (3) above\n",
    "        b = b - alpha * dj_db                            \n",
    "        w = w - alpha * dj_dw                            \n",
    "\n",
    "\n",
    "        # ONLY FOR GRAPHING PURPOSES , NOT REQUIRED FOR GRADIENT DESCENT\n",
    "\n",
    "        # Save cost J at each iteration\n",
    "        if i<100000:      # prevent resource exhaustion \n",
    "            J_history.append( cost_function(x, y, w , b))\n",
    "            p_history.append([w,b])\n",
    "        # Print cost every at intervals 10 times or as many iterations if < 10\n",
    "        if i% np.ceil(num_iters/10) == 0:\n",
    "            print(f\"Iteration {i:4}: Cost {J_history[-1]:0.2e} \",\n",
    "                  f\"dj_dw: {dj_dw: 0.3e}, dj_db: {dj_db: 0.3e}  \",\n",
    "                  f\"( w: {w: 0.3e}, b:{b: 0.5e} )\")\n",
    " \n",
    "    return w, b, J_history, p_history #return w and J,w history for graphing"
   ]
  },
  {
   "cell_type": "markdown",
   "id": "2ca8a008",
   "metadata": {},
   "source": [
    "<h3>TRAIN THE MODEL"
   ]
  },
  {
   "cell_type": "code",
   "execution_count": 6,
   "id": "4e904aad",
   "metadata": {},
   "outputs": [
    {
     "name": "stdout",
     "output_type": "stream",
     "text": [
      "Iteration    0: Cost 1.21e+05  dj_dw: -3.954e+03, dj_db: -6.856e+02   ( w:  3.954e+01, b: 6.85556e+00 )\n",
      "Iteration 2000: Cost 5.89e+02  dj_dw:  1.450e-01, dj_db: -9.122e-01   ( w:  7.970e+01, b: 2.86123e+02 )\n",
      "Iteration 4000: Cost 5.87e+02  dj_dw:  2.375e-03, dj_db: -1.494e-02   ( w:  7.901e+01, b: 2.90483e+02 )\n",
      "Iteration 6000: Cost 5.87e+02  dj_dw:  3.890e-05, dj_db: -2.447e-04   ( w:  7.900e+01, b: 2.90554e+02 )\n",
      "Iteration 8000: Cost 5.87e+02  dj_dw:  6.371e-07, dj_db: -4.009e-06   ( w:  7.900e+01, b: 2.90556e+02 )\n",
      "Iteration 10000: Cost 5.87e+02  dj_dw:  1.044e-08, dj_db: -6.567e-08   ( w:  7.900e+01, b: 2.90556e+02 )\n",
      "Iteration 12000: Cost 5.87e+02  dj_dw:  1.708e-10, dj_db: -1.076e-09   ( w:  7.900e+01, b: 2.90556e+02 )\n",
      "Iteration 14000: Cost 5.87e+02  dj_dw:  2.375e-12, dj_db: -1.790e-11   ( w:  7.900e+01, b: 2.90556e+02 )\n",
      "Iteration 16000: Cost 5.87e+02  dj_dw:  6.695e-13, dj_db: -2.804e-12   ( w:  7.900e+01, b: 2.90556e+02 )\n",
      "Iteration 18000: Cost 5.87e+02  dj_dw:  6.695e-13, dj_db: -2.804e-12   ( w:  7.900e+01, b: 2.90556e+02 )\n",
      "(w,b) found by gradient descent: ( 79.0000,290.5556)\n"
     ]
    }
   ],
   "source": [
    "#TRAIN THE MODEL USING GRADIENT DESCENT\n",
    "\n",
    "# STEP 1 initialize parameters\n",
    "w_init = 0\n",
    "b_init = 0\n",
    "# SET gradient descent settings\n",
    "iterations = 20000      # higher the number of iterations ,the better the fit\n",
    "tmp_alpha = 1.0e-2      # learning rate: 1.0e-2 is a good starting point ,greater values may cause divergence\n",
    "# run gradient descent\n",
    "w_final, b_final, J_hist, p_hist = train_with_gradient_descent(x_train ,y_train, w_init, b_init, tmp_alpha, \n",
    "                                                    iterations, compute_cost, compute_gradient)\n",
    "print(f\"(w,b) found by gradient descent: ({w_final:8.4f},{b_final:8.4f})\")"
   ]
  },
  {
   "cell_type": "markdown",
   "id": "d3306677",
   "metadata": {},
   "source": [
    "<b>PLOT GRAPH </b>"
   ]
  },
  {
   "cell_type": "code",
   "execution_count": 7,
   "id": "319e2c5d",
   "metadata": {},
   "outputs": [
    {
     "data": {
      "image/png": "[encoded data removed]",
      "text/plain": [
       "<Figure size 1200x400 with 2 Axes>"
      ]
     },
     "metadata": {},
     "output_type": "display_data"
    }
   ],
   "source": [
    "# plot cost versus iteration  \n",
    "import matplotlib.pyplot as plt\n",
    "\n",
    "fig, (ax1, ax2) = plt.subplots(1, 2, constrained_layout=True, figsize=(12,4))\n",
    "\n",
    "ax1.plot(J_hist[:100])  # here we are plotting only the first 100 iterations, ( x axis is implicit ),( y axis is cost)\n",
    "ax1.set_title(\"Cost vs. iteration(start)\")\n",
    "ax1.set_xlabel('iteration step') \n",
    "ax1.set_ylabel('Cost')  \n",
    "\n",
    "\n",
    "ax2.plot(1000 + np.arange(len(J_hist[1000:])), J_hist[1000:]) # here we are plotting from 10000th iteration onwards till the end\n",
    "ax2.set_title(\"Cost vs. iteration (end)\")\n",
    "ax2.set_ylabel('Cost') \n",
    "ax2.set_xlabel('iteration step') \n",
    "\n",
    "plt.show()"
   ]
  },
  {
   "cell_type": "markdown",
   "id": "8b64cc4f",
   "metadata": {},
   "source": [
    "### Predictions\n",
    "Now that you have discovered the optimal values for the parameters $w$ and $b$, you can now use the model to predict\n",
    "housing values based on our learned parameters. As expected, the predicted values are nearly the same as the training\n",
    "values for the same housing. Further, the value not in the prediction is in line with the expected value."
   ]
  },
  {
   "cell_type": "code",
   "execution_count": 8,
   "id": "2e96a28f",
   "metadata": {},
   "outputs": [
    {
     "name": "stdout",
     "output_type": "stream",
     "text": [
      "1000 sqft house prediction 369.6 Thousand dollars\n",
      "2000 sqft house prediction 409.1 Thousand dollars\n",
      "3000 sqft house prediction 448.6 Thousand dollars\n"
     ]
    }
   ],
   "source": [
    "def predict(x, w, b):\n",
    "   '''\n",
    "    Function to predict the price of a house given the size of the house\n",
    "    Args:\n",
    "      x (scalar): size of the house\n",
    "      w (scalar): weight parameter\n",
    "      b (scalar): bias parameter    \n",
    "    Returns:\n",
    "        y_pred (scalar): predicted price of the house\n",
    "   '''\n",
    "   y_pred = w*x + b\n",
    "   return y_pred\n",
    "\n",
    "print(f\"1000 sqft house prediction {predict(1,w_final,b_final):0.1f} Thousand dollars\")\n",
    "print(f\"2000 sqft house prediction {predict(1.5,w_final,b_final):0.1f} Thousand dollars\")\n",
    "print(f\"3000 sqft house prediction {predict(2,w_final,b_final):0.1f} Thousand dollars\")"
   ]
  },
  {
   "cell_type": "code",
   "execution_count": null,
   "id": "666db64a-dc67-46c9-b3f7-9b043c25c39c",
   "metadata": {},
   "outputs": [],
   "source": []
  }
 ],
 "metadata": {
  "kernelspec": {
   "display_name": "base",
   "language": "python",
   "name": "python3"
  },
  "language_info": {
   "codemirror_mode": {
    "name": "ipython",
    "version": 3
   },
   "file_extension": ".py",
   "mimetype": "text/x-python",
   "name": "python",
   "nbconvert_exporter": "python",
   "pygments_lexer": "ipython3",
   "version": "3.12.4"
  }
 },
 "nbformat": 4,
 "nbformat_minor": 5
}
